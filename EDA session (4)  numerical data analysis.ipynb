{
 "cells": [
  {
   "cell_type": "code",
   "execution_count": 1,
   "id": "4ebcf007",
   "metadata": {},
   "outputs": [],
   "source": [
    "import pandas as pd \n",
    "import numpy as np \n",
    "import matplotlib.pyplot as plt\n",
    "import seaborn as sns "
   ]
  },
  {
   "cell_type": "code",
   "execution_count": 2,
   "id": "e6951da6",
   "metadata": {},
   "outputs": [
    {
     "data": {
      "text/html": [
       "<div>\n",
       "<style scoped>\n",
       "    .dataframe tbody tr th:only-of-type {\n",
       "        vertical-align: middle;\n",
       "    }\n",
       "\n",
       "    .dataframe tbody tr th {\n",
       "        vertical-align: top;\n",
       "    }\n",
       "\n",
       "    .dataframe thead th {\n",
       "        text-align: right;\n",
       "    }\n",
       "</style>\n",
       "<table border=\"1\" class=\"dataframe\">\n",
       "  <thead>\n",
       "    <tr style=\"text-align: right;\">\n",
       "      <th></th>\n",
       "      <th>case_id</th>\n",
       "      <th>continent</th>\n",
       "      <th>education_of_employee</th>\n",
       "      <th>has_job_experience</th>\n",
       "      <th>requires_job_training</th>\n",
       "      <th>no_of_employees</th>\n",
       "      <th>yr_of_estab</th>\n",
       "      <th>region_of_employment</th>\n",
       "      <th>prevailing_wage</th>\n",
       "      <th>unit_of_wage</th>\n",
       "      <th>full_time_position</th>\n",
       "      <th>case_status</th>\n",
       "    </tr>\n",
       "  </thead>\n",
       "  <tbody>\n",
       "    <tr>\n",
       "      <th>0</th>\n",
       "      <td>EZYV01</td>\n",
       "      <td>Asia</td>\n",
       "      <td>High School</td>\n",
       "      <td>N</td>\n",
       "      <td>N</td>\n",
       "      <td>14513</td>\n",
       "      <td>2007</td>\n",
       "      <td>West</td>\n",
       "      <td>592.2029</td>\n",
       "      <td>Hour</td>\n",
       "      <td>Y</td>\n",
       "      <td>Denied</td>\n",
       "    </tr>\n",
       "    <tr>\n",
       "      <th>1</th>\n",
       "      <td>EZYV02</td>\n",
       "      <td>Asia</td>\n",
       "      <td>Master's</td>\n",
       "      <td>Y</td>\n",
       "      <td>N</td>\n",
       "      <td>2412</td>\n",
       "      <td>2002</td>\n",
       "      <td>Northeast</td>\n",
       "      <td>83425.6500</td>\n",
       "      <td>Year</td>\n",
       "      <td>Y</td>\n",
       "      <td>Certified</td>\n",
       "    </tr>\n",
       "    <tr>\n",
       "      <th>2</th>\n",
       "      <td>EZYV03</td>\n",
       "      <td>Asia</td>\n",
       "      <td>Bachelor's</td>\n",
       "      <td>N</td>\n",
       "      <td>Y</td>\n",
       "      <td>44444</td>\n",
       "      <td>2008</td>\n",
       "      <td>West</td>\n",
       "      <td>122996.8600</td>\n",
       "      <td>Year</td>\n",
       "      <td>Y</td>\n",
       "      <td>Denied</td>\n",
       "    </tr>\n",
       "  </tbody>\n",
       "</table>\n",
       "</div>"
      ],
      "text/plain": [
       "  case_id continent education_of_employee has_job_experience  \\\n",
       "0  EZYV01      Asia           High School                  N   \n",
       "1  EZYV02      Asia              Master's                  Y   \n",
       "2  EZYV03      Asia            Bachelor's                  N   \n",
       "\n",
       "  requires_job_training  no_of_employees  yr_of_estab region_of_employment  \\\n",
       "0                     N            14513         2007                 West   \n",
       "1                     N             2412         2002            Northeast   \n",
       "2                     Y            44444         2008                 West   \n",
       "\n",
       "   prevailing_wage unit_of_wage full_time_position case_status  \n",
       "0         592.2029         Hour                  Y      Denied  \n",
       "1       83425.6500         Year                  Y   Certified  \n",
       "2      122996.8600         Year                  Y      Denied  "
      ]
     },
     "execution_count": 2,
     "metadata": {},
     "output_type": "execute_result"
    }
   ],
   "source": [
    "path=r\"C:\\Users\\rakes\\naresh it data  science (adi)\\Data files\\Visadataset - Visadataset.csv\"\n",
    "visa_df=pd.read_csv(path)\n",
    "visa_df.head(3)"
   ]
  },
  {
   "cell_type": "code",
   "execution_count": 3,
   "id": "a9037ea3",
   "metadata": {},
   "outputs": [
    {
     "data": {
      "text/plain": [
       "Index(['case_id', 'continent', 'education_of_employee', 'has_job_experience',\n",
       "       'requires_job_training', 'no_of_employees', 'yr_of_estab',\n",
       "       'region_of_employment', 'prevailing_wage', 'unit_of_wage',\n",
       "       'full_time_position', 'case_status'],\n",
       "      dtype='object')"
      ]
     },
     "execution_count": 3,
     "metadata": {},
     "output_type": "execute_result"
    }
   ],
   "source": [
    "visa_df.columns"
   ]
  },
  {
   "cell_type": "code",
   "execution_count": 4,
   "id": "68f77f17",
   "metadata": {},
   "outputs": [
    {
     "data": {
      "text/plain": [
       "Index(['no_of_employees', 'yr_of_estab', 'prevailing_wage'], dtype='object')"
      ]
     },
     "execution_count": 4,
     "metadata": {},
     "output_type": "execute_result"
    }
   ],
   "source": [
    "visa_df.select_dtypes(exclude='object').columns"
   ]
  },
  {
   "cell_type": "markdown",
   "id": "8b246d05",
   "metadata": {},
   "source": [
    "### prevailing_wage"
   ]
  },
  {
   "cell_type": "code",
   "execution_count": 5,
   "id": "42f58682",
   "metadata": {},
   "outputs": [
    {
     "ename": "SyntaxError",
     "evalue": "invalid syntax (863182246.py, line 1)",
     "output_type": "error",
     "traceback": [
      "\u001b[1;36m  Cell \u001b[1;32mIn[5], line 1\u001b[1;36m\u001b[0m\n\u001b[1;33m    -in the numerical analysis\u001b[0m\n\u001b[1;37m     ^\u001b[0m\n\u001b[1;31mSyntaxError\u001b[0m\u001b[1;31m:\u001b[0m invalid syntax\n"
     ]
    }
   ],
   "source": [
    "-in the numerical analysis\n",
    "- mean median std count25 p 50 p\n"
   ]
  },
  {
   "cell_type": "code",
   "execution_count": null,
   "id": "934ca1fa",
   "metadata": {},
   "outputs": [],
   "source": [
    "visa_df['prevailing_wage']"
   ]
  },
  {
   "cell_type": "code",
   "execution_count": null,
   "id": "2081d9f9",
   "metadata": {},
   "outputs": [],
   "source": [
    "len(visa_df['prevailing_wage'])"
   ]
  },
  {
   "cell_type": "code",
   "execution_count": null,
   "id": "1b20ca9c",
   "metadata": {},
   "outputs": [],
   "source": [
    "visa_df['prevailing_wage'].count()"
   ]
  },
  {
   "cell_type": "markdown",
   "id": "cdb33bc0",
   "metadata": {},
   "source": [
    "### mean"
   ]
  },
  {
   "cell_type": "code",
   "execution_count": null,
   "id": "03588701",
   "metadata": {},
   "outputs": [],
   "source": [
    "visa_df['prevailing_wage'].mean()    #   pandas "
   ]
  },
  {
   "cell_type": "code",
   "execution_count": null,
   "id": "a32b0ed1",
   "metadata": {},
   "outputs": [],
   "source": [
    "np.mean(visa_df['prevailing_wage'])   "
   ]
  },
  {
   "cell_type": "code",
   "execution_count": null,
   "id": "9160bcf9",
   "metadata": {},
   "outputs": [],
   "source": []
  },
  {
   "cell_type": "markdown",
   "id": "30933dd7",
   "metadata": {},
   "source": [
    "### median()"
   ]
  },
  {
   "cell_type": "code",
   "execution_count": null,
   "id": "7f429891",
   "metadata": {},
   "outputs": [],
   "source": [
    "visa_df['prevailing_wage'].median()   "
   ]
  },
  {
   "cell_type": "markdown",
   "id": "8883074e",
   "metadata": {},
   "source": [
    "### max"
   ]
  },
  {
   "cell_type": "code",
   "execution_count": null,
   "id": "afe053d5",
   "metadata": {},
   "outputs": [],
   "source": [
    "visa_df['prevailing_wage'].max()    "
   ]
  },
  {
   "cell_type": "markdown",
   "id": "c8e0c021",
   "metadata": {},
   "source": [
    "### min"
   ]
  },
  {
   "cell_type": "code",
   "execution_count": null,
   "id": "61828dde",
   "metadata": {},
   "outputs": [],
   "source": [
    "visa_df['prevailing_wage'].min()    "
   ]
  },
  {
   "cell_type": "code",
   "execution_count": null,
   "id": "af64ceca",
   "metadata": {},
   "outputs": [],
   "source": [
    "np.min(visa_df['prevailing_wage'])"
   ]
  },
  {
   "cell_type": "markdown",
   "id": "d2a2a727",
   "metadata": {},
   "source": [
    "### standard deviation"
   ]
  },
  {
   "cell_type": "code",
   "execution_count": null,
   "id": "a175ff2d",
   "metadata": {},
   "outputs": [],
   "source": [
    "visa_df['prevailing_wage'].std()"
   ]
  },
  {
   "cell_type": "code",
   "execution_count": null,
   "id": "0fece897",
   "metadata": {},
   "outputs": [],
   "source": [
    "# all together \n",
    "wage_count=round(visa_df['prevailing_wage'].count(),2)\n",
    "wage_mean=round(visa_df['prevailing_wage'].mean(),2) \n",
    "wage_max=round(visa_df['prevailing_wage'].max(),2)  \n",
    "wage_median=round(visa_df['prevailing_wage'].median(),2)\n",
    "wage_std=round(visa_df['prevailing_wage'].std(),2)\n",
    "wage_min=round(visa_df['prevailing_wage'].min(),2)\n",
    "\n",
    "l=[wage_count,wage_mean,wage_max,wage_median,wage_std,wage_min]\n",
    "cols=['prevailing_wage']\n",
    "index=['count','max','min','mean','median','std']\n",
    "pd.DataFrame(l,columns=cols,index=index)"
   ]
  },
  {
   "cell_type": "markdown",
   "id": "69670b9e",
   "metadata": {},
   "source": [
    "####  percentile and quantile "
   ]
  },
  {
   "cell_type": "code",
   "execution_count": null,
   "id": "e72b4354",
   "metadata": {},
   "outputs": [],
   "source": [
    "- percentile and quantile available in the numpy \n",
    "- np. percentile \n",
    "   - column nname \n",
    "   - percentile value 0 to 100\n",
    "np.quantile()\n",
    "    -column name \n",
    "    - 0 to 1\n",
    "in quantile (visa_df ['prevailing_wage'],25)\n"
   ]
  },
  {
   "cell_type": "code",
   "execution_count": null,
   "id": "6a6f3f96",
   "metadata": {},
   "outputs": [],
   "source": [
    "np.quantile(visa_df['prevailing_wage'],0.25)"
   ]
  },
  {
   "cell_type": "code",
   "execution_count": null,
   "id": "eb2d5b60",
   "metadata": {},
   "outputs": [],
   "source": [
    "np.percentile(visa_df['prevailing_wage'],25)"
   ]
  },
  {
   "cell_type": "markdown",
   "id": "39425d00",
   "metadata": {},
   "source": [
    "### what is the mean of 25 percentile=34015.47"
   ]
  },
  {
   "cell_type": "code",
   "execution_count": null,
   "id": "4ca19904",
   "metadata": {},
   "outputs": [],
   "source": [
    "25 percentage of total data has wage less then 34014.47\n",
    "- i need 25 percentage of total data \n",
    "- find 25 percentage of total data=  25*25480/100\n",
    "-  6370 person wages less than 34014"
   ]
  },
  {
   "cell_type": "code",
   "execution_count": null,
   "id": "582da78e",
   "metadata": {},
   "outputs": [],
   "source": [
    "con=visa_df['prevailing_wage']<34014\n",
    "len(visa_df[con])"
   ]
  },
  {
   "cell_type": "code",
   "execution_count": null,
   "id": "676c5225",
   "metadata": {},
   "outputs": [],
   "source": [
    "# can you valid quickly for 50p data \n",
    "wage_50=np.percentile(visa_df['prevailing_wage'],50)\n",
    "con=visa_df['prevailing_wage']<wage_50\n",
    "len(visa_df[con])"
   ]
  },
  {
   "cell_type": "code",
   "execution_count": null,
   "id": "607f9e36",
   "metadata": {},
   "outputs": [],
   "source": [
    "# all together \n",
    "cols=visa_df.select_dtypes(exclude='object').columns\n",
    "l=[]\n",
    "\n",
    "for i in cols:\n",
    "    \n",
    "    \n",
    "    count=round(visa_df[i].count(),2)\n",
    "    mean=round(visa_df[i].mean(),2) \n",
    "    maxx=round(visa_df[i].max(),2)  \n",
    "    median=round(visa_df[i].median(),2)\n",
    "    std=round(visa_df[i].std(),2)\n",
    "    minn=round(visa_df[i].min(),2)\n",
    "    p_25=np.percentile(visa_df[i],25)\n",
    "    p_50=np.percentile(visa_df[i],50)\n",
    "    p_75=np.percentile(visa_df[i],75)\n",
    "\n",
    "\n",
    "\n",
    "    l.append([count,mean,maxx,median,std,minn,p_25,p_50,p_75])\n",
    "cols=['prevailing_wage']\n",
    "index=['count','max','min','mean','median','std','25%','50%','75%']\n",
    "pd.DataFrame(zip(l[0],l[1],l[2],columns=cols,index=index))\n"
   ]
  },
  {
   "cell_type": "code",
   "execution_count": null,
   "id": "0bc3c69e",
   "metadata": {},
   "outputs": [],
   "source": [
    "visa_df.describe()"
   ]
  },
  {
   "cell_type": "code",
   "execution_count": null,
   "id": "962e9875",
   "metadata": {},
   "outputs": [],
   "source": [
    "wage_count=round(visa_df['prevailing_wage'].count(),2)\n",
    "wage_mean=round(visa_df['prevailing_wage'].mean(),2) \n",
    "wage_max=round(visa_df['prevailing_wage'].max(),2)  \n",
    "wage_median=round(visa_df['prevailing_wage'].median(),2)\n",
    "wage_std=round(visa_df['prevailing_wage'].std(),2)\n",
    "wage_min=round(visa_df['prevailing_wage'].min(),2)\n",
    "wage_25=np.percentile(visa_df['prevailing_wage'],25)\n",
    "wage_50=np.percentile(visa_df['prevailing_wage'],50)\n",
    "wage_75=np.percentile(visa_df['prevailing_wage'],75)\n",
    "\n",
    "\n",
    "\n",
    "l=[wage_count,wage_mean,wage_max,wage_median,wage_std,wage_min,wage_25,wage_50,wage_75]\n",
    "cols=['prevailing_wage']\n",
    "index=['count','max','min','mean','median','std','25%','50%','75%']\n",
    "pd.DataFrame(l,columns=cols,index=index)"
   ]
  },
  {
   "cell_type": "code",
   "execution_count": null,
   "id": "fb34113b",
   "metadata": {},
   "outputs": [],
   "source": [
    "# all together \n",
    "cols=visa_df.select_dtypes(exclude='object').columns\n",
    "d={}\n",
    "\n",
    "for i in cols:\n",
    "    \n",
    "    \n",
    "    count=round(visa_df[i].count(),2)\n",
    "    mean=round(visa_df[i].mean(),2) \n",
    "    maxx=round(visa_df[i].max(),2)  \n",
    "    median=round(visa_df[i].median(),2)\n",
    "    std=round(visa_df[i].std(),2)\n",
    "    minn=round(visa_df[i].min(),2)\n",
    "    p_25=np.percentile(visa_df[i],25)\n",
    "    p_50=np.percentile(visa_df[i],50)\n",
    "    p_75=np.percentile(visa_df[i],75)\n",
    "\n",
    "\n",
    "\n",
    "    d[i]=[count,mean,maxx,median,std,minn,p_25,p_50,p_75]\n",
    "cols=['prevailing_wage']\n",
    "index=['count','max','min','mean','median','std','25%','50%','75%']\n",
    "pd.DataFrame(d,index=index)\n"
   ]
  },
  {
   "cell_type": "code",
   "execution_count": null,
   "id": "c880675c",
   "metadata": {},
   "outputs": [],
   "source": [
    "import pandas as np \n",
    "import pandas as pd\n",
    "import matplotlib.pyplot as plt\n",
    "import seaborn as sns"
   ]
  },
  {
   "cell_type": "code",
   "execution_count": null,
   "id": "a6790611",
   "metadata": {},
   "outputs": [],
   "source": [
    "path=r\"C:\\Users\\rakes\\naresh it data  science (adi)\\Data files\\Visadataset - Visadataset.csv\"\n",
    "visa_df=pd.read_csv(path)\n",
    "visa_df.head(3)"
   ]
  },
  {
   "cell_type": "code",
   "execution_count": null,
   "id": "cd32c37a",
   "metadata": {},
   "outputs": [],
   "source": [
    "visa_df.columns"
   ]
  },
  {
   "cell_type": "code",
   "execution_count": null,
   "id": "2a305e37",
   "metadata": {},
   "outputs": [],
   "source": [
    "visa_df['prevailing_wage']"
   ]
  },
  {
   "cell_type": "code",
   "execution_count": null,
   "id": "9a7532fe",
   "metadata": {},
   "outputs": [],
   "source": [
    "len(visa_df['prevailing_wage'])"
   ]
  },
  {
   "cell_type": "code",
   "execution_count": null,
   "id": "322a8498",
   "metadata": {},
   "outputs": [],
   "source": [
    "wage_count=round(visa_df['prevailing_wage'].count(),2)\n",
    "wage_max=round(visa_df['prevailing_wage'].max(),2)\n",
    "wage_min=round(visa_df['prevailing_wage'].min(),2)\n",
    "wage_mean=round(visa_df['prevailing_wage'].mean(),2)\n",
    "wage_median=round(visa_df['prevailing_wage'].median(),2)\n",
    "wage_std=round(visa_df['prevailing_wage'].std(),2)\n",
    "wage_25=np.percentile(visa_df['prevailing_wage'],25)\n",
    "wage_50=np.percentile(visa_df['prevailing_wage'],50)\n",
    "wage_75=np.percentile(visa_df['prevailing_wage'],75)\n",
    "l=[wage_count,wage_max,wage_min,\n",
    "wage_mean,wage_median,wage_std,\n",
    "wage_25,wage_50,wage_75]\n",
    "cols=['prevailing_wage']\n",
    "index=['count','max','min',\n",
    "'mean','median','std',\n",
    "'25%','50%','75%']\n",
    "pd.DataFrame(l,columns=cols,index=index)"
   ]
  },
  {
   "cell_type": "code",
   "execution_count": null,
   "id": "6d7cbb51",
   "metadata": {},
   "outputs": [],
   "source": [
    "visa_df.describe()"
   ]
  },
  {
   "cell_type": "code",
   "execution_count": null,
   "id": "d21bbfc9",
   "metadata": {},
   "outputs": [],
   "source": [
    "cols=visa_df.select_dtypes(exclude='object').columns\n",
    "l=[]\n",
    "for i in cols:\n",
    "    count=round(visa_df[i].count(),2)\n",
    "    maxx=round(visa_df[i].max(),2)\n",
    "    minn=round(visa_df[i].min(),2)\n",
    "    mean=round(visa_df[i].mean(),2)\n",
    "    median=round(visa_df[i].median(),2)\n",
    "    std=round(visa_df[i].std(),2)\n",
    "    p_25=np.percentile(visa_df[i],25)\n",
    "    p_50=np.percentile(visa_df[i],50)\n",
    "    p_75=np.percentile(visa_df[i],75)\n",
    "    l.append([count,maxx,minn,mean,median,std,\n",
    "    p_25,p_50,p_75])\n",
    "print(l)\n",
    "index=['count','max','min',\n",
    "'mean','median','std',\n",
    "'25%','50%','75%']\n",
    "pd.DataFrame(zip(l[0],l[1],l[2]),columns=cols,index=index)"
   ]
  },
  {
   "cell_type": "code",
   "execution_count": null,
   "id": "67cdf508",
   "metadata": {},
   "outputs": [],
   "source": [
    "cols=visa_df.select_dtypes(exclude='object').columns\n",
    "d={}\n",
    "for i in cols:\n",
    "    count=round(visa_df[i].count(),2)\n",
    "    maxx=round(visa_df[i].max(),2)\n",
    "    minn=round(visa_df[i].min(),2)\n",
    "    mean=round(visa_df[i].mean(),2)\n",
    "    median=round(visa_df[i].median(),2)\n",
    "    std=round(visa_df[i].std(),2)\n",
    "    p_25=round(np.percentile(visa_df[i],25),2)\n",
    "    p_50=round(np.percentile(visa_df[i],50),2)\n",
    "    p_75=round(np.percentile(visa_df[i],75),2)\n",
    "    d[i]=[count,maxx,minn,mean,median,std,p_25,p_50,p_75]\n",
    "\n",
    "index=['count','max','min',\n",
    "'mean','median','std',\n",
    "'25%','50%','75%']\n",
    "pd.DataFrame(d,index=index)"
   ]
  },
  {
   "cell_type": "code",
   "execution_count": null,
   "id": "4790a957",
   "metadata": {},
   "outputs": [],
   "source": [
    "import pandas as pd \n",
    "import numpy as np \n",
    "import matplotlib.pyplot as plt\n",
    "import seaborn as sns "
   ]
  },
  {
   "cell_type": "code",
   "execution_count": 8,
   "id": "fdd719c1",
   "metadata": {},
   "outputs": [
    {
     "data": {
      "image/png": "[encoded data removed]",
      "text/plain": [
       "<Figure size 640x480 with 1 Axes>"
      ]
     },
     "metadata": {},
     "output_type": "display_data"
    }
   ],
   "source": [
    "f,i,n=plt.hist(visa_df['prevailing_wage'],\n",
    "bins=40)"
   ]
  },
  {
   "cell_type": "code",
   "execution_count": 9,
   "id": "25854387",
   "metadata": {},
   "outputs": [
    {
     "data": {
      "text/plain": [
       "(40, 41, 3)"
      ]
     },
     "execution_count": 9,
     "metadata": {},
     "output_type": "execute_result"
    }
   ],
   "source": [
    "len(f),len(i),len(n)"
   ]
  },
  {
   "cell_type": "code",
   "execution_count": 10,
   "id": "c25e26ea",
   "metadata": {},
   "outputs": [
    {
     "data": {
      "text/plain": [
       "array([2.13670000e+00, 7.98234003e+03, 1.59625434e+04, 2.39427467e+04,\n",
       "       3.19229500e+04, 3.99031534e+04, 4.78833567e+04, 5.58635600e+04,\n",
       "       6.38437634e+04, 7.18239667e+04, 7.98041700e+04, 8.77843734e+04,\n",
       "       9.57645767e+04, 1.03744780e+05, 1.11724983e+05, 1.19705187e+05,\n",
       "       1.27685390e+05, 1.35665593e+05, 1.43645797e+05, 1.51626000e+05,\n",
       "       1.59606203e+05, 1.67586407e+05, 1.75566610e+05, 1.83546813e+05,\n",
       "       1.91527017e+05, 1.99507220e+05, 2.07487423e+05, 2.15467627e+05,\n",
       "       2.23447830e+05, 2.31428033e+05, 2.39408237e+05, 2.47388440e+05,\n",
       "       2.55368643e+05, 2.63348847e+05, 2.71329050e+05, 2.79309253e+05,\n",
       "       2.87289457e+05, 2.95269660e+05, 3.03249863e+05, 3.11230067e+05,\n",
       "       3.19210270e+05])"
      ]
     },
     "execution_count": 10,
     "metadata": {},
     "output_type": "execute_result"
    }
   ],
   "source": [
    "i"
   ]
  },
  {
   "cell_type": "code",
   "execution_count": null,
   "id": "835a1c11",
   "metadata": {},
   "outputs": [],
   "source": []
  },
  {
   "cell_type": "code",
   "execution_count": null,
   "id": "4ee9c36f",
   "metadata": {},
   "outputs": [],
   "source": []
  },
  {
   "cell_type": "code",
   "execution_count": null,
   "id": "a589f76a",
   "metadata": {},
   "outputs": [],
   "source": []
  },
  {
   "cell_type": "code",
   "execution_count": null,
   "id": "452c6d52",
   "metadata": {},
   "outputs": [],
   "source": []
  },
  {
   "cell_type": "code",
   "execution_count": null,
   "id": "94d8a184",
   "metadata": {},
   "outputs": [],
   "source": []
  }
 ],
 "metadata": {
  "kernelspec": {
   "display_name": "Python 3 (ipykernel)",
   "language": "python",
   "name": "python3"
  },
  "language_info": {
   "codemirror_mode": {
    "name": "ipython",
    "version": 3
   },
   "file_extension": ".py",
   "mimetype": "text/x-python",
   "name": "python",
   "nbconvert_exporter": "python",
   "pygments_lexer": "ipython3",
   "version": "3.11.5"
  }
 },
 "nbformat": 4,
 "nbformat_minor": 5
}
